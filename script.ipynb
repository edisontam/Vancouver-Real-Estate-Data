{
 "cells": [
  {
   "cell_type": "code",
   "execution_count": null,
   "metadata": {},
   "outputs": [],
   "source": [
    "# Dependencies\n",
    "from bs4 import BeautifulSoup\n",
    "import requests\n",
    "import pandas as pd"
   ]
  },
  {
   "cell_type": "code",
   "execution_count": null,
   "metadata": {},
   "outputs": [],
   "source": [
    "#Testing\n",
    "#Site: https://www.rebgv.org/\n",
    "#Segment: /market-watch/\n",
    "#Old Format:\n",
    "#Page: /MLS-HPI-home-price-comparison.hpi.<area>.<sub-area>.<property type>.<YYYY-m-d>.html\n",
    "#Example: https://www.rebgv.org/market-watch/MLS-HPI-home-price-comparison.hpi.greater_vancouver.detached.2020-2-1.html\n",
    "#New Format (as of August 23rd, 2020):\n",
    "#Page: /MLS-HPI-home-price-comparison.hpi.<area>.<sub-area>.<property type, nullable>.<YYYY-m-d>.html\n",
    "#Example: https://www.rebgv.org/market-watch/MLS-HPI-home-price-comparison.hpi.greater_vancouver.all.detached.2020-7-1.html\n",
    "\n",
    "linked = 'https://www.rebgv.org/market-watch/MLS-HPI-home-price-comparison.hpi.all.all.all.2020-7-1.html'\n",
    "\n",
    "response = requests.get(linked)\n",
    "# soup\n",
    "soup = BeautifulSoup(response.text, 'html.parser')\n",
    "\n",
    "# div main class: hpi-graphics\n",
    "# div content class: table-wrapper\n",
    "result = soup.find_all('div', class_='table-wrapper')\n",
    "result"
   ]
  },
  {
   "cell_type": "code",
   "execution_count": null,
   "metadata": {},
   "outputs": [],
   "source": [
    "home_dict = []\n",
    "\n",
    "for year in range(2016, 2021):\n",
    "    for month in range(1, 13):\n",
    "        print(str(year) + \"-\" + str(month))\n",
    "        try:\n",
    "            url = 'https://www.rebgv.org/market-watch/MLS-HPI-home-price-comparison.hpi.all.all.all.' + str(year) + '-' + str(month) + '-1.html';\n",
    "            print(url)\n",
    "            r = requests.get(url)\n",
    "            soup = BeautifulSoup(r.text, 'html.parser')\n",
    "\n",
    "            home_table = soup.find('div', class_=\"table-wrapper\")\n",
    "            #print(home_table)\n",
    "            for home in home_table.find_all('tbody'):\n",
    "                rows = home.find_all('tr')\n",
    "                for row in rows:\n",
    "                    area = row.find('td').text;\n",
    "                    benchmark = row.find_all('td')[1].text\n",
    "                    priceIndex = row.find_all('td')[2].text\n",
    "                    oneMonthChange = row.find_all('td')[3].text\n",
    "                    sixMonthChange = row.find_all('td')[4].text\n",
    "                    oneYearChange = row.find_all('td')[5].text\n",
    "                    threeYearChange = row.find_all('td')[6].text\n",
    "                    fiveYearChange = row.find_all('td')[7].text\n",
    "                    propertyType = row.find_all('td')[8].text\n",
    "                    year = year;\n",
    "                    month = month;\n",
    "\n",
    "                    home_obj = {\n",
    "                        \"Area\": area,\n",
    "                        \"Benchmark\": benchmark,\n",
    "                        \"Price Index\": priceIndex,\n",
    "                        \"1 Month +/-\": oneMonthChange,\n",
    "                        \"6 Month +/-\": sixMonthChange,\n",
    "                        \"1 Year +/-\": oneYearChange,\n",
    "                        \"3 Year +/-\": threeYearChange,\n",
    "                        \"5 Year +/-\": fiveYearChange,\n",
    "                        \"Property Type\": propertyType,\n",
    "                        \"Report Month\": month,\n",
    "                        \"Report Year\": year\n",
    "                    }\n",
    "                    home_dict.append(home_obj)  \n",
    "        except:\n",
    "            continue\n",
    "\n",
    "#print(home_dict)"
   ]
  },
  {
   "cell_type": "code",
   "execution_count": null,
   "metadata": {},
   "outputs": [],
   "source": [
    "vancouver_home_data = pd.DataFrame(home_dict)\n",
    "vancouver_home_data\n",
    "#4565 rows as of August 23rd, 2020.  Data to up July 2020."
   ]
  },
  {
   "cell_type": "code",
   "execution_count": null,
   "metadata": {},
   "outputs": [],
   "source": [
    "# Export file as a CSV, without the Pandas index, but with the header\n",
    "vancouver_home_data.to_csv(\"Vancouver Real Estate Board Data 201601 - 202007.csv\", index=False, header=True)"
   ]
  }
 ],
 "metadata": {
  "kernelspec": {
   "display_name": "Python 3",
   "language": "python",
   "name": "python3"
  },
  "language_info": {
   "codemirror_mode": {
    "name": "ipython",
    "version": 3
   },
   "file_extension": ".py",
   "mimetype": "text/x-python",
   "name": "python",
   "nbconvert_exporter": "python",
   "pygments_lexer": "ipython3",
   "version": "3.8.2"
  }
 },
 "nbformat": 4,
 "nbformat_minor": 2
}
